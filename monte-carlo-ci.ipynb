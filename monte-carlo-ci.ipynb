{
 "cells": [
  {
   "cell_type": "code",
   "execution_count": 19,
   "id": "3b5671fe-4e50-4f42-9deb-949aa7d3af1c",
   "metadata": {},
   "outputs": [],
   "source": [
    "# import libraries\n",
    "import numpy as np\n",
    "from cryptorandom.sample import random_sample, random_allocation, get_prng\n",
    "from cryptorandom.cryptorandom import SHA256\n",
    "import time\n",
    "import itertools\n",
    "from collections import Counter\n",
    "import matplotlib.pyplot as plt\n",
    "from scipy.stats import norm\n",
    "import random\n",
    "import math\n",
    "import warnings\n",
    "import sys\n",
    "import os"
   ]
  },
  {
   "cell_type": "markdown",
   "id": "59f18268-10d9-4cd4-8d21-0fecd2cc57be",
   "metadata": {},
   "source": [
    "### Garthwaite Algorithm"
   ]
  },
  {
   "cell_type": "code",
   "execution_count": 5,
   "id": "03f7d473-3063-4566-882d-67a0089e4a84",
   "metadata": {},
   "outputs": [],
   "source": [
    "def garthwaite(x, y, initial_guess=None, cl=0.95, reps=10**4, seed=None):\n",
    "    r\"\"\"\n",
    "    Construct random permutation confidence intervals for the two-sample problem using the algorithm in Garthwaite (1996)\n",
    "\n",
    "    Parameters\n",
    "    ----------\n",
    "    x : array-like\n",
    "    y : array-like\n",
    "    initial_guess : array-like\n",
    "        Search starting points for the lower and upper confidence interval endpoints\n",
    "    cl : int\n",
    "        Confidence level\n",
    "    reps : int\n",
    "        Number of steps\n",
    "    seed : RandomState instance or {None, int, RandomState instance}\n",
    "        If None, the pseudorandom number generator is the RandomState\n",
    "        instance used by `np.random`;\n",
    "        If int, seed is the seed used by the random number generator;\n",
    "        If RandomState instance, seed is the pseudorandom number generator\n",
    "\n",
    "    Returns\n",
    "    -------\n",
    "    tuple\n",
    "        Returns confidence interval lower bound, confidence interval upper bound, \n",
    "        array of the lower bound estimates at each step of the search, array of the upper bound estimates at each step of the search\n",
    "    \"\"\"\n",
    "    # compute alpha from confidence level\n",
    "    alpha = (1-cl)/2\n",
    "    full_sample = np.array([*x, *y])\n",
    "    n = len(full_sample)\n",
    "    nx = len(x)\n",
    "    my_prng = get_prng(seed)\n",
    "    \n",
    "    # set k\n",
    "    k = 2 / ((norm.ppf(1-alpha) / np.sqrt(2*math.pi)) * math.exp(-norm.ppf(1-alpha)**2 / 2))\n",
    "\n",
    "    # set initial CI limits\n",
    "    if initial_guess == None:\n",
    "        upper_lim = max(abs(max(x) - min(y)), abs(max(y) - min(x)))\n",
    "        lower_lim = -upper_lim\n",
    "    else:\n",
    "        upper_lim = initial_guess[1]\n",
    "        lower_lim = initial_guess[0]\n",
    "        \n",
    "    # calculate observed difference in means\n",
    "    obs = np.mean(x) - np.mean(y)\n",
    "    \n",
    "    # set c\n",
    "    c_upper = k*(upper_lim - obs)\n",
    "    c_lower = k*(obs - lower_lim)\n",
    "    \n",
    "    # if c is negative, raise error\n",
    "    if c_upper < 0 or c_lower < 0:\n",
    "        raise ValueError(\"Constant c cannot be negative. Provide different initial guess.\")\n",
    "\n",
    "    # initilize U and L\n",
    "    U = [0]*reps\n",
    "    L = [0]*reps\n",
    "    \n",
    "    # iterate through steps of Garthwaite's algorithm\n",
    "    ## Upper limit ##\n",
    "    for i in range(reps):\n",
    "        # Potential outcomes for all units under treatment\n",
    "        pot_outx = np.concatenate([x, y + upper_lim])\n",
    "        # Potential outcomes for all units under control\n",
    "        pot_outy = np.concatenate([x - upper_lim, y])\n",
    "        pot_out_all = np.column_stack([pot_outx, pot_outy])\n",
    "        rr = list(range(pot_out_all.shape[0]))\n",
    "        # Just do one permutation \n",
    "        my_prng.shuffle(rr)\n",
    "        pp = np.take(pot_out_all, rr, axis=0)\n",
    "        # get difference in means for that permutation\n",
    "        perm_mean_diff = np.mean(pp[:nx, 0]) - np.mean(pp[nx:, 1])\n",
    "        # update U and L\n",
    "        if perm_mean_diff > obs:\n",
    "            U[i] = upper_lim - c_upper*alpha/(i+1)\n",
    "            upper_lim = U[i]\n",
    "        else:\n",
    "            U[i] = upper_lim + c_upper*(1-alpha)/(i+1)\n",
    "            upper_lim = U[i]\n",
    "        # set c\n",
    "        c_upper = k*(upper_lim - obs)\n",
    "        \n",
    "    ## Lower limit ##\n",
    "    for i in range(reps):\n",
    "        # Potential outcomes for all units under treatment\n",
    "        pot_outx = np.concatenate([x, y + lower_lim])\n",
    "        # Potential outcomes for all units under control\n",
    "        pot_outy = np.concatenate([x - lower_lim, y])\n",
    "        pot_out_all = np.column_stack([pot_outx, pot_outy])\n",
    "        rr = list(range(pot_out_all.shape[0]))\n",
    "        # Just do one permutation \n",
    "        my_prng.shuffle(rr)\n",
    "        pp = np.take(pot_out_all, rr, axis=0)\n",
    "        # get difference in means for that permutation\n",
    "        perm_mean_diff = np.mean(pp[:nx, 0]) - np.mean(pp[nx:, 1])\n",
    "        # update U and L\n",
    "        if perm_mean_diff < obs:\n",
    "            L[i] = lower_lim + c_lower*alpha/(i+1)\n",
    "            lower_lim = L[i]\n",
    "        else:\n",
    "            L[i] = lower_lim - c_lower*(1-alpha)/(i+1) \n",
    "            lower_lim = L[i]\n",
    "        # set c\n",
    "        c_lower = k*(obs-lower_lim)\n",
    "        \n",
    "    return lower_lim, upper_lim, L, U"
   ]
  },
  {
   "cell_type": "code",
   "execution_count": 6,
   "id": "de31d5b6-1284-4c28-8891-ac35d1291260",
   "metadata": {},
   "outputs": [
    {
     "name": "stdout",
     "output_type": "stream",
     "text": [
      "CPU time used: 0.5109299999999992 seconds\n",
      "-0.2883777538941723 10.992864741115884\n"
     ]
    }
   ],
   "source": [
    "# Garthwaite example\n",
    "x = np.array([16.4, 29.4, 37.1, 23.0, 24.1, 24.5, 16.4, 29.1, \n",
    "              36.7, 28.7, 30.2, 21.8, 37.1, 20.3, 28.3])\n",
    "y = np.array([22.2, 34.8, 42.1, 32.9, 26.4, 30.6, 32.9, 37.5, 18.4, \n",
    "              27.5, 45.5, 34.0, 45.5, 24.5, 28.7])\n",
    "\n",
    "start_time = time.process_time()\n",
    "lower_lim, upper_lim, L, U = garthwaite(y, x, initial_guess = [0, 10], cl=0.95, reps=6000, seed=13)\n",
    "end_time = time.process_time()\n",
    "\n",
    "print(f\"CPU time used: {end_time - start_time} seconds\")\n",
    "\n",
    "print(lower_lim, upper_lim)"
   ]
  },
  {
   "cell_type": "code",
   "execution_count": 13,
   "id": "66b17676-a2f8-4fa7-aecb-9062c03a621e",
   "metadata": {},
   "outputs": [],
   "source": [
    "# timing tests\n",
    "time_array = [0]*100\n",
    "for i in range(len(time_array)):\n",
    "    start_time = time.process_time()\n",
    "    lower_lim, upper_lim, L, U = garthwaite(y, x, initial_guess = [0, 10], cl=0.95, reps=6000, seed=13)\n",
    "    end_time = time.process_time()\n",
    "    time_array[i] = end_time - start_time"
   ]
  },
  {
   "cell_type": "code",
   "execution_count": 14,
   "id": "7b0f0cbe-3286-4807-9fcf-6946dcf2b992",
   "metadata": {},
   "outputs": [
    {
     "data": {
      "text/plain": [
       "np.float64(0.46571911000000143)"
      ]
     },
     "execution_count": 14,
     "metadata": {},
     "output_type": "execute_result"
    }
   ],
   "source": [
    "np.mean(time_array)"
   ]
  },
  {
   "cell_type": "markdown",
   "id": "4072f945-b910-4e5d-8bc6-226c0ac1b16e",
   "metadata": {},
   "source": [
    "### New method"
   ]
  },
  {
   "cell_type": "code",
   "execution_count": 15,
   "id": "ac12ace3-bfe0-4830-a17f-1e85a63512c7",
   "metadata": {},
   "outputs": [],
   "source": [
    "def calc_one_sample_perm_stat(x, reps=10**5, complete_enum=False, seed=None):\n",
    "    r\"\"\"\n",
    "    Calculate mean of observed data, mean of reps number of permuted data and corresponding number of negative values in the permutations\n",
    "\n",
    "    Parameters\n",
    "    ----------\n",
    "    x : array-like\n",
    "    reps : int\n",
    "        Number of random permutations\n",
    "    complete_enum : bool\n",
    "        Whether to enumerate all possible permutations. If True, reps is ignored. Default, False.\n",
    "    seed : RandomState instance or {None, int, RandomState instance}\n",
    "        If None, the pseudorandom number generator is the RandomState\n",
    "        instance used by `np.random`;\n",
    "        If int, seed is the seed used by the random number generator;\n",
    "        If RandomState instance, seed is the pseudorandom number generator\n",
    "\n",
    "    Returns\n",
    "    -------\n",
    "    tuple\n",
    "        Returns mean of observed data x, array of means of reps number of permuted data, \n",
    "        array of corresponding number of negative values in each permutation\n",
    "    \"\"\"\n",
    "    # get number of observations\n",
    "    n = len(x)\n",
    "    # get observed mean\n",
    "    obs_mean = np.mean(x)\n",
    "    # check if complete enumeration\n",
    "    if complete_enum:\n",
    "        # get complete set of permutations\n",
    "        perms = [list(item) for item in itertools.product([-1, 1], repeat=n)]\n",
    "        # throw warning if complete enumeration will result in more than a million permutations\n",
    "        if perms > 10**7:\n",
    "            warnings.warn(\"Warning: complete enumertation involves more than 1 million permutations\")\n",
    "        # initalize array of permutation means and count of elements that change signs\n",
    "        perm_mean = [0] * len(perms)\n",
    "        perm_neg = [0] * len(perms)\n",
    "        i = 0\n",
    "        # calculate sample mean and number of -1 for each permutation\n",
    "        for perm in perms:\n",
    "            perm_mean[i] = np.mean(x * perm)\n",
    "            perm_neg[i] = np.sum(np.array(perm) == -1) \n",
    "            i = i+1\n",
    "    else:\n",
    "        # initalize array of permutation means and count of elements that change signs\n",
    "        perm_mean = [0] * reps\n",
    "        perm_neg = [0] * reps\n",
    "        # set seed\n",
    "        my_seed = get_prng(seed) \n",
    "        # calculate sample mean and number of -1 for each permutation\n",
    "        for i in range(reps):\n",
    "            perm = random_sample([1, -1], n, replace=True, prng=my_seed)\n",
    "            #perm = np.random.choice([1, -1], n, replace=True) # default PRNG\n",
    "            perm_mean[i] = np.mean(x * perm)\n",
    "            perm_neg[i] = np.sum(perm == -1)\n",
    "    return obs_mean, perm_mean, perm_neg\n",
    "\n",
    "def calc_two_sample_perm_stat(x, y, reps=10**5, seed=None, complete_enum = False):\n",
    "    r\"\"\"\n",
    "    Calculate difference in means of observed data, \n",
    "    difference in means of reps number of permuted datasets and \n",
    "    corresponding number of values that switched from 'treatment' to 'control' in the permutations\n",
    "\n",
    "    Parameters\n",
    "    ----------\n",
    "    x : array-like\n",
    "    y : array-like\n",
    "    reps : int\n",
    "        Number of random permutations\n",
    "    complete_enum : bool\n",
    "        Whether to enumerate all possible permutations. If True, reps is ignored. Default, False.\n",
    "    seed : RandomState instance or {None, int, RandomState instance}\n",
    "        If None, the pseudorandom number generator is the RandomState\n",
    "        instance used by `np.random`;\n",
    "        If int, seed is the seed used by the random number generator;\n",
    "        If RandomState instance, seed is the pseudorandom number generator\n",
    "\n",
    "    Returns\n",
    "    -------\n",
    "    tuple\n",
    "        Returns difference in means of observed data, \n",
    "        difference in means of reps number of permuted datasets and \n",
    "        corresponding number of values that switched from 'treatment' to 'control' in the permutations\n",
    "    \"\"\"\n",
    "    # concat x and y to get full sample\n",
    "    full_sample = np.array([*x, *y])\n",
    "    # get sample sizes\n",
    "    nx = len(x)\n",
    "    ny = len(y)\n",
    "    n = len(full_sample)\n",
    "    # get observed difference\n",
    "    obs_diff = np.mean(x) - np.mean(y)\n",
    "    # check if complete enumeration\n",
    "    if complete_enum:\n",
    "        # array of indices of the full sample\n",
    "        z = np.arange(n)\n",
    "        # array of all combinations of indices for x\n",
    "        poss_perm_indices_x = list(itertools.combinations(z, len(x)))\n",
    "        # array of corresponding indices for y\n",
    "        poss_perm_indices_y = [0]*len(poss_perm_indices_x)\n",
    "        # initialize test statistic and n_tc arrays\n",
    "        perm_mean_diff = [0]*len(poss_perm_indices_x)\n",
    "        perm_n_switch = [0]*len(poss_perm_indices_x)\n",
    "        # calculate difference in means and number of units that switch from treatment to control for each permutation\n",
    "        for i in range(len(poss_perm_indices_x)):\n",
    "            diff = Counter(z) - Counter(poss_perm_indices_x[i])\n",
    "            poss_perm_indices_y[i] = list(diff.elements())\n",
    "            perm_mean_diff[i] = np.mean(full_sample[np.array(poss_perm_indices_x[i])]) - np.mean(full_sample[np.array(poss_perm_indices_y[i])])\n",
    "            perm_n_switch[i] = len(list(set(poss_perm_indices_x[i])-set(np.arange(nx))))\n",
    "    else:\n",
    "        # get array with difference in means for each permutation and number of control and treated units that switch\n",
    "        perm_mean_diff = [0] * reps\n",
    "        perm_n_switch = [0] * reps\n",
    "        my_seed = get_prng(seed) \n",
    "        # calculate difference in means and number of units that switch from treatment to control for each permutation\n",
    "        for i in range(reps):\n",
    "            perm_indices_x = random_sample(n, nx, prng=my_seed)\n",
    "            #perm_indices_x = np.random.choice(n, nx, replace=False) # default PRNG\n",
    "            perm_indices_y = list(set(np.arange(n))-set(perm_indices_x))            \n",
    "            perm_mean_diff[i] = np.mean(full_sample[[perm_indices_x]]) - np.mean(full_sample[[perm_indices_y]])\n",
    "            perm_n_switch[i] = len(list(set(perm_indices_x)-set(np.arange(nx))))\n",
    "            \n",
    "    return obs_diff, perm_mean_diff, perm_n_switch"
   ]
  },
  {
   "cell_type": "code",
   "execution_count": 16,
   "id": "2a1bc4ed-7e35-4cf8-9c36-5c3905d6e3df",
   "metadata": {},
   "outputs": [],
   "source": [
    "def bisection_method_ci(x, y = [], cl = 0.95, reps = 10**5, complete_enum=False, \n",
    "                        rtol=1e-05, atol=1e-08, max_iter=10**5, seed=None):\n",
    "    r\"\"\"\n",
    "    Construct random permutation confidence intervals for the one- and two-sample problem using method described in Glazer and Stark\n",
    "\n",
    "    Parameters\n",
    "    ----------\n",
    "    x : array-like\n",
    "    y : array-like\n",
    "    cl : int\n",
    "        Confidence level\n",
    "    reps : int\n",
    "        Number of random permutations\n",
    "    complete_enum : bool\n",
    "        Whether to enumerate all possible permutations. If True, reps is ignored. Default, False.\n",
    "    rtol : int\n",
    "    atol : int\n",
    "    max_iter : int\n",
    "        Maximum number of bisection method iterations\n",
    "    seed : RandomState instance or {None, int, RandomState instance}\n",
    "        If None, the pseudorandom number generator is the RandomState\n",
    "        instance used by `np.random`;\n",
    "        If int, seed is the seed used by the random number generator;\n",
    "        If RandomState instance, seed is the pseudorandom number generator\n",
    "\n",
    "    Returns\n",
    "    -------\n",
    "    tuple\n",
    "        Returns the lower and upper confidence bounds, and whether the bounds reach the desired tolerance\n",
    "    \"\"\"\n",
    "    # set alpha\n",
    "    alpha = 1 - cl\n",
    "    # get length of sample(s)\n",
    "    nx = len(x)\n",
    "    ny = len(y)\n",
    "\n",
    "    # check if one or two sample and get permutation values\n",
    "    if len(y) == 0:\n",
    "        if 2**(-nx) <= alpha:\n",
    "            perm_values = calc_one_sample_perm_stat(x=x, reps=reps, complete_enum=complete_enum, \n",
    "                                                    seed=seed)\n",
    "            upper_lim = max(x)\n",
    "            med_lim = np.median(x)\n",
    "            lower_lim = min(x)\n",
    "        else:\n",
    "            raise ValueError(\"Sample size too small\")\n",
    "    else: \n",
    "        # get array with difference in means for each permutation and number of control and treated units that switch\n",
    "        perm_values = calc_two_sample_perm_stat(x=x, y=y, reps=reps, seed=seed, complete_enum=complete_enum)\n",
    "        # set upper and lower limits for CI\n",
    "        upper_lim = max(abs(max(x) - min(y)), abs(max(y) - min(x)))\n",
    "        lower_lim = -upper_lim\n",
    "        \n",
    "    # get observed and necessary values for each permutation to calculate test statistic for each shift\n",
    "    obs = perm_values[0]\n",
    "    perm_stats = perm_values[1]\n",
    "    perm_n_switch = perm_values[2]\n",
    "    \n",
    "    ## Get CI upper bound ##\n",
    "    # initialize upper and lower bounds\n",
    "    if ny == 0:\n",
    "        u_lower_bound = lower_lim # add test that alpha < 1/2, FIX ME\n",
    "    else:\n",
    "        u_lower_bound = lower_lim\n",
    "    u_upper_bound = upper_lim\n",
    "    # calculate midpoint of interval\n",
    "    midpoint = (u_lower_bound + u_upper_bound) / 2\n",
    "    # initialize count\n",
    "    count = 0\n",
    "    # modified bisection method\n",
    "    while (np.allclose(u_upper_bound, u_lower_bound, rtol=rtol, atol=atol) == False) and (count < max_iter):\n",
    "        # calculate test statistic for theta = midpoint\n",
    "        if len(y) == 0:\n",
    "            shift_perm_stats = np.asarray(perm_stats) + (midpoint * (2*np.asarray(perm_n_switch))) / nx \n",
    "        else: \n",
    "            shift_perm_stats = np.asarray(perm_stats) + (midpoint * ((1/nx) + (1/ny)))*np.asarray(perm_n_switch)\n",
    "\n",
    "        # calculate p-value\n",
    "        if complete_enum:\n",
    "            upper_p_value = 2*min(np.mean(shift_perm_stats <= obs), np.mean(shift_perm_stats >= obs))\n",
    "        else:\n",
    "            upper_p_value = 2*min((np.sum(obs >= shift_perm_stats) + 1) / (reps + 1), (np.sum(obs <= shift_perm_stats) + 1) / (reps + 1))\n",
    "            \n",
    "        # update bounds\n",
    "        if upper_p_value <= alpha:\n",
    "            u_upper_bound = midpoint\n",
    "            midpoint = (u_upper_bound + u_lower_bound) / 2\n",
    "        elif upper_p_value > alpha: \n",
    "            u_lower_bound = midpoint\n",
    "            midpoint = (u_lower_bound + u_upper_bound) / 2\n",
    "\n",
    "        # up iteration count\n",
    "        count += 1\n",
    "        \n",
    "    # boolean for upper bound success if reaches tolerance\n",
    "    u_success = np.allclose(u_upper_bound, u_lower_bound, rtol=rtol, atol=atol)\n",
    "    \n",
    "    # print number of iterations run to calculate upper bound\n",
    "    print(\"Number of iterations for upper bound \", count)\n",
    "            \n",
    "    ## Get CI lower bound ##\n",
    "    # initialize upper and lower bounds\n",
    "    l_lower_bound = lower_lim\n",
    "    l_upper_bound = upper_lim \n",
    "    # calculate midpoint\n",
    "    midpoint = (l_lower_bound + l_upper_bound) / 2\n",
    "    # initialize count\n",
    "    count = 0\n",
    "    # modified bisection method\n",
    "    while (np.allclose(l_upper_bound, l_lower_bound, rtol=rtol, atol=atol) == False) and count < max_iter:\n",
    "        # calculate test statistic for theta = midpoint\n",
    "        if len(y) == 0:\n",
    "            shift_perm_stats = np.asarray(perm_stats) + (midpoint * (2*np.asarray(perm_n_switch))) / nx \n",
    "        else: \n",
    "            shift_perm_stats = np.asarray(perm_stats) + (midpoint * ((1/nx) + (1/ny)))*np.asarray(perm_n_switch)\n",
    "\n",
    "        # calculate p-value\n",
    "        if complete_enum:\n",
    "            lower_p_value = 2*min(np.mean(shift_perm_stats <= obs), np.mean(shift_perm_stats >= obs))\n",
    "        else:\n",
    "            lower_p_value = 2*min((np.sum(obs >= shift_perm_stats) + 1) / (reps + 1), (np.sum(obs <= shift_perm_stats) + 1) / (reps + 1))\n",
    "        # update bounds\n",
    "        if lower_p_value < alpha:\n",
    "            l_lower_bound = midpoint\n",
    "            midpoint = (l_upper_bound + l_lower_bound) / 2\n",
    "        elif lower_p_value >= alpha: \n",
    "            l_upper_bound = midpoint\n",
    "            midpoint = (l_lower_bound + l_upper_bound) / 2\n",
    "\n",
    "        # up iteration count\n",
    "        count += 1\n",
    "    \n",
    "    # boolean for lower bound success if reaches tolerance\n",
    "    l_success = np.allclose(l_upper_bound, l_lower_bound, rtol=rtol, atol=atol)\n",
    "    \n",
    "    # print number of iterations run to calculate lower bound\n",
    "    print(\"Number of iterations for lower bound \", count)\n",
    "    \n",
    "    return l_lower_bound, u_upper_bound, u_success, l_success"
   ]
  },
  {
   "cell_type": "code",
   "execution_count": 61,
   "id": "efb1435c-ac4f-46ed-800d-4d1264a0f3b7",
   "metadata": {},
   "outputs": [
    {
     "name": "stdout",
     "output_type": "stream",
     "text": [
      "--- 15.951695919036865 seconds ---\n",
      "--- 0.15510177612304688 seconds ---\n"
     ]
    }
   ],
   "source": [
    "# illustrate PRNG time difference - generate random integers between 1 and 1 million\n",
    "start_time = time.time()\n",
    "perm = SHA256(seed = 13).randint(1, 10**7, size=10**7)\n",
    "print(\"--- %s seconds ---\" % (time.time() - start_time))\n",
    "# default Python\n",
    "start_time = time.time()\n",
    "perm = np.random.randint(1, 10**7, 10**7) # default PRNG\n",
    "print(\"--- %s seconds ---\" % (time.time() - start_time))"
   ]
  },
  {
   "cell_type": "code",
   "execution_count": 20,
   "id": "9841b748-c965-42aa-9116-76d468a442fe",
   "metadata": {},
   "outputs": [],
   "source": [
    "# Two-sample problem with Garthwaite data\n",
    "x = np.array([16.4, 29.4, 37.1, 23.0, 24.1, 24.5, 16.4, 29.1, \n",
    "              36.7, 28.7, 30.2, 21.8, 37.1, 20.3, 28.3])\n",
    "y = np.array([22.2, 34.8, 42.1, 32.9, 26.4, 30.6, 32.9, 37.5, 18.4, \n",
    "              27.5, 45.5, 34.0, 45.5, 24.5, 28.7])\n",
    "# timing tests\n",
    "time_array = [0]*100\n",
    "# Save current stdout\n",
    "original_stdout = sys.stdout\n",
    "# Redirect stdout to null\n",
    "sys.stdout = open(os.devnull, 'w')\n",
    "for i in range(len(time_array)):\n",
    "    start_time = time.process_time()\n",
    "    result = bisection_method_ci(y, x, reps= 10**4, cl = 0.95, max_iter=40, seed = 13)\n",
    "    end_time = time.process_time()\n",
    "    time_array[i] = end_time - start_time\n",
    "# Restore original stdout\n",
    "sys.stdout = original_stdout"
   ]
  },
  {
   "cell_type": "code",
   "execution_count": 21,
   "id": "fa8c67cb-dc8b-4b8b-8a75-aff205625e5e",
   "metadata": {},
   "outputs": [
    {
     "data": {
      "text/plain": [
       "np.float64(0.32549246000000065)"
      ]
     },
     "execution_count": 21,
     "metadata": {},
     "output_type": "execute_result"
    }
   ],
   "source": [
    "np.mean(time_array)"
   ]
  },
  {
   "cell_type": "code",
   "execution_count": 50,
   "id": "f9892743-f715-4695-aa59-2a1d837f8c8c",
   "metadata": {},
   "outputs": [
    {
     "name": "stdout",
     "output_type": "stream",
     "text": [
      "Number of iterations for upper bound  19\n",
      "Number of iterations for lower bound  22\n",
      "(3.7499775886535645, 38.14307403564453, True, True)\n",
      "--- 0.6279029846191406 seconds ---\n"
     ]
    }
   ],
   "source": [
    "# One-sample problem example with Tritchler data, complete enumeration\n",
    "start_time = time.time()\n",
    "print(bisection_method_ci(x = np.array([49, -67, 8, 6, 16, 23, 28, 41, 14, 29, 56, 24, 75, 60, -48]), \n",
    "                    cl = 0.90, complete_enum=True)) \n",
    "print(\"--- %s seconds ---\" % (time.time() - start_time))"
   ]
  },
  {
   "cell_type": "code",
   "execution_count": 77,
   "id": "06185737-c387-48ff-a185-80ed8751ac2e",
   "metadata": {},
   "outputs": [
    {
     "name": "stdout",
     "output_type": "stream",
     "text": [
      "Number of iterations for upper bound  19\n",
      "Number of iterations for lower bound  22\n",
      "(3.8571300506591797, 38.250057220458984, True, True)\n",
      "--- 0.49468493461608887 seconds ---\n",
      "Number of iterations for upper bound  19\n",
      "Number of iterations for lower bound  27\n",
      "(-0.16666707396507263, 41.00020217895508, True, True)\n",
      "Number of iterations for upper bound  19\n",
      "Number of iterations for lower bound  21\n",
      "(-8.800064086914062, 47.20008087158203, True, True)\n"
     ]
    }
   ],
   "source": [
    "# One-sample problem example with Tritchler data, 10**4 random permutations\n",
    "start_time = time.time()\n",
    "print(bisection_method_ci(x = np.array([49, -67, 8, 6, 16, 23, 28, 41, 14, 29, 56, 24, 75, 60, -48]), \n",
    "                    cl = 0.90, reps = 10**4, complete_enum=False, seed=13)) \n",
    "print(\"--- %s seconds ---\" % (time.time() - start_time))\n",
    "\n",
    "print(bisection_method_ci(x = np.array([49, -67, 8, 6, 16, 23, 28, 41, 14, 29, 56, 24, 75, 60, -48]), \n",
    "                    cl = 0.95, reps = 10**4, complete_enum=False, seed=13)) \n",
    "\n",
    "print(bisection_method_ci(x = np.array([49, -67, 8, 6, 16, 23, 28, 41, 14, 29, 56, 24, 75, 60, -48]), \n",
    "                    cl = 0.99, reps = 10**4, complete_enum=False, seed=13)) "
   ]
  },
  {
   "cell_type": "code",
   "execution_count": 22,
   "id": "b01a22c8-791e-48c4-8558-7bd9c252d331",
   "metadata": {},
   "outputs": [],
   "source": [
    "# One-sample problem example with Tritchler data, 10**4 random permutations\n",
    "# timing tests\n",
    "time_array = [0]*100\n",
    "# Save current stdout\n",
    "original_stdout = sys.stdout\n",
    "# Redirect stdout to null\n",
    "sys.stdout = open(os.devnull, 'w')\n",
    "for i in range(len(time_array)):\n",
    "    start_time = time.process_time()\n",
    "    result = bisection_method_ci(x = [49, -67, 8, 6, 16, 23, 28, 41, 14, 29, 56, 24, 75, 60, -48],\n",
    "                                 reps= 10**4, cl = 0.95, max_iter=40, seed = 13)\n",
    "    end_time = time.process_time()\n",
    "    time_array[i] = end_time - start_time\n",
    "# Restore original stdout\n",
    "sys.stdout = original_stdout"
   ]
  },
  {
   "cell_type": "code",
   "execution_count": 23,
   "id": "d6d1c00a-f455-4e62-b1d0-5194048b2be0",
   "metadata": {},
   "outputs": [
    {
     "data": {
      "text/plain": [
       "np.float64(0.23168391000000013)"
      ]
     },
     "execution_count": 23,
     "metadata": {},
     "output_type": "execute_result"
    }
   ],
   "source": [
    "np.mean(time_array)"
   ]
  },
  {
   "cell_type": "code",
   "execution_count": 36,
   "id": "2a29fb59-50a1-4f16-814c-6a7dc678a80c",
   "metadata": {},
   "outputs": [
    {
     "name": "stdout",
     "output_type": "stream",
     "text": [
      "Number of iterations for upper bound  19\n",
      "Number of iterations for lower bound  22\n",
      "(3.5999979972839355, 32.46158981323242, True, True)\n",
      "CPU time used: 0.31812699999989036 seconds\n"
     ]
    }
   ],
   "source": [
    "# One-sample problem example with Tritchler data, 10**4 random permutations\n",
    "start_time = time.process_time()\n",
    "print(bisection_method_ci(x = np.array([49, -67, 8, 6, 16, 23, 28, 41, 14, 29, 56, 24, 75, 60, -48, \n",
    "                                       49, -67, 8, 6, 6, 23, 28, 41,14,29]), \n",
    "                    cl = 0.95, reps = 10**4, seed=13))\n",
    "end_time = time.process_time()\n",
    "\n",
    "print(f\"CPU time used: {end_time - start_time} seconds\")"
   ]
  },
  {
   "cell_type": "code",
   "execution_count": 24,
   "id": "e713e0bc-35ce-4340-907f-1ffd12f0b9e8",
   "metadata": {},
   "outputs": [],
   "source": [
    "# One-sample problem example with Tritchler additional data, 10**4 random permutations\n",
    "# timing tests\n",
    "time_array = [0]*100\n",
    "# Save current stdout\n",
    "original_stdout = sys.stdout\n",
    "# Redirect stdout to null\n",
    "sys.stdout = open(os.devnull, 'w')\n",
    "for i in range(len(time_array)):\n",
    "    start_time = time.process_time()\n",
    "    result = bisection_method_ci(x = [49, -67, 8, 6, 16, 23, 28, 41, 14, 29, 56, 24, 75, 60, -48, \n",
    "                                       49, -67, 8, 6, 6, 23, 28, 41,14,29],\n",
    "                                 reps= 10**4, cl = 0.95, max_iter=40, seed = 13)\n",
    "    end_time = time.process_time()\n",
    "    time_array[i] = end_time - start_time\n",
    "# Restore original stdout\n",
    "sys.stdout = original_stdout"
   ]
  },
  {
   "cell_type": "code",
   "execution_count": 25,
   "id": "8d39909f-7a4d-499e-98f5-8e4db1818388",
   "metadata": {},
   "outputs": [
    {
     "data": {
      "text/plain": [
       "np.float64(0.29361397000000095)"
      ]
     },
     "execution_count": 25,
     "metadata": {},
     "output_type": "execute_result"
    }
   ],
   "source": [
    "np.mean(time_array)"
   ]
  },
  {
   "cell_type": "code",
   "execution_count": 79,
   "id": "eda9782d-ef93-4403-819e-f1fd02458eb0",
   "metadata": {},
   "outputs": [
    {
     "name": "stderr",
     "output_type": "stream",
     "text": [
      "/var/folders/d_/d_l8pffd5g9339qj6mktkq580000gn/T/ipykernel_23265/1152499453.py:120: FutureWarning: Using a non-tuple sequence for multidimensional indexing is deprecated; use `arr[tuple(seq)]` instead of `arr[seq]`. In the future this will be interpreted as an array index, `arr[np.array(seq)]`, which will result either in an error or a different result.\n",
      "  perm_mean_diff[i] = np.mean(full_sample[[perm_indices_x]]) - np.mean(full_sample[[perm_indices_y]])\n"
     ]
    },
    {
     "name": "stdout",
     "output_type": "stream",
     "text": [
      "Number of iterations for upper bound  22\n",
      "Number of iterations for lower bound  20\n",
      "(-2.1166748046874995, 0.38000183105468727, True, True)\n",
      "CPU time used: 0.5828760000000557 seconds\n",
      "Number of iterations for upper bound  21\n",
      "Number of iterations for lower bound  20\n",
      "(-2.3333374023437496, 0.6428588867187499, True, True)\n",
      "Number of iterations for upper bound  21\n",
      "Number of iterations for lower bound  19\n",
      "(-2.8500244140624997, 1.1666687011718748, True, True)\n"
     ]
    }
   ],
   "source": [
    "# Two-sample problem example with Tritchler data, 10**4 random permutations\n",
    "x = np.array([35.3, 35.9, 37.2, 33.0, 31.9, 33.7, 36.0, 35.0, \n",
    "              33.3, 33.6, 37.9, 35.6, 29.0, 33.7, 35.7])\n",
    "y = np.array([32.5, 34.0, 34.4, 31.8, 35.0, 34.6, 33.5, 33.6, 31.5, 33.8, 34.6])\n",
    "\n",
    "start_time = time.process_time()\n",
    "print(bisection_method_ci(y, x, reps= 10**4, cl = 0.90, max_iter=40, seed = 13))\n",
    "end_time = time.process_time()\n",
    "print(f\"CPU time used: {end_time - start_time} seconds\")\n",
    "\n",
    "print(bisection_method_ci(y, x, reps= 10**4, cl = 0.95, max_iter=40, seed = 13))\n",
    "print(bisection_method_ci(y, x, reps= 10**4, cl = 0.99, max_iter=40, seed = 13))"
   ]
  },
  {
   "cell_type": "code",
   "execution_count": 26,
   "id": "1413c70a-30cb-47ff-b922-0388315163bc",
   "metadata": {},
   "outputs": [],
   "source": [
    "# Two-sample problem example with Tritchler data, 10**4 random permutations\n",
    "x = np.array([35.3, 35.9, 37.2, 33.0, 31.9, 33.7, 36.0, 35.0, \n",
    "              33.3, 33.6, 37.9, 35.6, 29.0, 33.7, 35.7])\n",
    "y = np.array([32.5, 34.0, 34.4, 31.8, 35.0, 34.6, 33.5, 33.6, 31.5, 33.8, 34.6])\n",
    "# timing tests\n",
    "time_array = [0]*100\n",
    "# Save current stdout\n",
    "original_stdout = sys.stdout\n",
    "# Redirect stdout to null\n",
    "sys.stdout = open(os.devnull, 'w')\n",
    "for i in range(len(time_array)):\n",
    "    start_time = time.process_time()\n",
    "    result = bisection_method_ci(y, x,\n",
    "                                 reps= 10**4, cl = 0.95, max_iter=40, seed = 13)\n",
    "    end_time = time.process_time()\n",
    "    time_array[i] = end_time - start_time\n",
    "# Restore original stdout\n",
    "sys.stdout = original_stdout"
   ]
  },
  {
   "cell_type": "code",
   "execution_count": 27,
   "id": "b8b29976-f500-46d8-bd9e-5b29f1c9d5f4",
   "metadata": {},
   "outputs": [
    {
     "data": {
      "text/plain": [
       "np.float64(0.2758584599999992)"
      ]
     },
     "execution_count": 27,
     "metadata": {},
     "output_type": "execute_result"
    }
   ],
   "source": [
    "np.mean(time_array)"
   ]
  },
  {
   "cell_type": "code",
   "execution_count": 72,
   "id": "8a809024-e995-49e2-b373-11930d440d3b",
   "metadata": {},
   "outputs": [
    {
     "name": "stderr",
     "output_type": "stream",
     "text": [
      "/var/folders/d_/d_l8pffd5g9339qj6mktkq580000gn/T/ipykernel_23265/1152499453.py:120: FutureWarning: Using a non-tuple sequence for multidimensional indexing is deprecated; use `arr[tuple(seq)]` instead of `arr[seq]`. In the future this will be interpreted as an array index, `arr[np.array(seq)]`, which will result either in an error or a different result.\n",
      "  perm_mean_diff[i] = np.mean(full_sample[[perm_indices_x]]) - np.mean(full_sample[[perm_indices_y]])\n"
     ]
    },
    {
     "name": "stdout",
     "output_type": "stream",
     "text": [
      "Number of iterations for upper bound  18\n",
      "Number of iterations for lower bound  18\n",
      "(6.399951171874998, -6.399951171874998, True, True)\n",
      "CPU time used: 0.815827000000013 seconds\n",
      "Number of iterations for upper bound  24\n",
      "Number of iterations for lower bound  20\n",
      "(-1.8833374023437495, 0.1416671752929687, True, True)\n",
      "Number of iterations for upper bound  22\n",
      "Number of iterations for lower bound  20\n",
      "(-2.1666748046874993, 0.4300018310546873, True, True)\n"
     ]
    }
   ],
   "source": [
    "# Two-sample problem example with Tritchler data, sample size doubled, 10**4 random permutations\n",
    "x = np.array([35.3, 35.9, 37.2, 33.0, 31.9, 33.7, 36.0, 35.0, \n",
    "              33.3, 33.6, 37.9, 35.6, 29.0, 33.7, 35.7,\n",
    "             35.3, 35.9, 37.2, 33.0, 31.9, 33.7, 36.0, 35.0, \n",
    "              33.3, 33.6, 37.9, 35.6, 29.0, 33.7, 35.7])\n",
    "y = np.array([32.5, 34.0, 34.4, 31.8, 35.0, 34.6, 33.5, 33.6, 31.5, 33.8, 34.6, \n",
    "             32.5, 34.0, 34.4, 31.8, 35.0, 34.6, 33.5, 33.6, 31.5, 33.8, 34.6])\n",
    "\n",
    "start_time = time.process_time()\n",
    "print(bisection_method_ci(y, x, reps= 10**4, cl = 0.90, max_iter=40, seed = 13))\n",
    "end_time = time.process_time()\n",
    "print(f\"CPU time used: {end_time - start_time} seconds\")\n",
    "\n",
    "print(bisection_method_ci(y, x, reps= 10**4, cl = 0.95, max_iter=40, seed = 13))\n",
    "print(bisection_method_ci(y, x, reps= 10**4, cl = 0.99, max_iter=40, seed = 13))"
   ]
  },
  {
   "cell_type": "code",
   "execution_count": 28,
   "id": "104fd225-37b3-4705-bfe9-642ecebac5b0",
   "metadata": {},
   "outputs": [],
   "source": [
    "# Two-sample problem example with Tritchler additional data, 10**4 random permutations\n",
    "x = np.array([35.3, 35.9, 37.2, 33.0, 31.9, 33.7, 36.0, 35.0, \n",
    "              33.3, 33.6, 37.9, 35.6, 29.0, 33.7, 35.7,\n",
    "             35.3, 35.9, 37.2, 33.0, 31.9, 33.7, 36.0, 35.0, \n",
    "              33.3, 33.6, 37.9, 35.6, 29.0, 33.7, 35.7])\n",
    "y = np.array([32.5, 34.0, 34.4, 31.8, 35.0, 34.6, 33.5, 33.6, 31.5, 33.8, 34.6, \n",
    "             32.5, 34.0, 34.4, 31.8, 35.0, 34.6, 33.5, 33.6, 31.5, 33.8, 34.6])\n",
    "# timing tests\n",
    "time_array = [0]*100\n",
    "# Save current stdout\n",
    "original_stdout = sys.stdout\n",
    "# Redirect stdout to null\n",
    "sys.stdout = open(os.devnull, 'w')\n",
    "for i in range(len(time_array)):\n",
    "    start_time = time.process_time()\n",
    "    result = bisection_method_ci(y, x,\n",
    "                                 reps= 10**4, cl = 0.95, max_iter=40, seed = 13)\n",
    "    end_time = time.process_time()\n",
    "    time_array[i] = end_time - start_time\n",
    "# Restore original stdout\n",
    "sys.stdout = original_stdout"
   ]
  },
  {
   "cell_type": "code",
   "execution_count": 29,
   "id": "d3d3548f-6439-4ee2-9fee-e6fd194409e4",
   "metadata": {},
   "outputs": [
    {
     "data": {
      "text/plain": [
       "np.float64(0.45321285000000017)"
      ]
     },
     "execution_count": 29,
     "metadata": {},
     "output_type": "execute_result"
    }
   ],
   "source": [
    "np.mean(time_array)"
   ]
  },
  {
   "cell_type": "code",
   "execution_count": 181,
   "id": "addfbfd0-d912-473f-99f8-2df71e8212ec",
   "metadata": {},
   "outputs": [
    {
     "name": "stdout",
     "output_type": "stream",
     "text": [
      "Number of iterations for upper bound  22\n",
      "Number of iterations for lower bound  20\n",
      "(-2.1142944335937504, 0.3857147216796874, True, True)\n",
      "CPU time used: 312.5978930000001 seconds\n"
     ]
    }
   ],
   "source": [
    "# Two-sample problem example with Tritchler data, complete enumeration, 90% CI\n",
    "x = np.array([35.3, 35.9, 37.2, 33.0, 31.9, 33.7, 36.0, 35.0, \n",
    "              33.3, 33.6, 37.9, 35.6, 29.0, 33.7, 35.7])\n",
    "y = np.array([32.5, 34.0, 34.4, 31.8, 35.0, 34.6, 33.5, 33.6, 31.5, 33.8, 34.6])\n",
    "\n",
    "start_time = time.process_time()\n",
    "print(bisection_method_ci(y, x, complete_enum=True, cl = 0.90, max_iter=40, seed = 13))\n",
    "end_time = time.process_time()\n",
    "print(f\"CPU time used: {end_time - start_time} seconds\")"
   ]
  },
  {
   "cell_type": "code",
   "execution_count": null,
   "id": "c05ea1ee-6337-4f2e-ac67-ed0fd68684a8",
   "metadata": {},
   "outputs": [
    {
     "name": "stdout",
     "output_type": "stream",
     "text": [
      "Number of iterations for upper bound  21\n",
      "Number of iterations for lower bound  20\n",
      "(-2.3400024414062486, 0.6499999999999999, True, True)\n",
      "CPU time used: 315.33381199999985 seconds\n"
     ]
    }
   ],
   "source": [
    "# Two-sample problem example with Tritchler data, complete enumerationm, 95% CI\n",
    "start_time = time.process_time()\n",
    "print(bisection_method_ci(y, x, reps= 10**4, complete_enum=True, cl = 0.95, max_iter=40, seed = 13))\n",
    "end_time = time.process_time()\n",
    "print(f\"CPU time used: {end_time - start_time} seconds\")"
   ]
  },
  {
   "cell_type": "code",
   "execution_count": 183,
   "id": "f62bba8c-8c39-46fd-9d87-34aa1550a7bb",
   "metadata": {},
   "outputs": [
    {
     "name": "stdout",
     "output_type": "stream",
     "text": [
      "Number of iterations for upper bound  21\n",
      "Number of iterations for lower bound  19\n",
      "(-2.8143066406249995, 1.1800048828125003, True, True)\n",
      "CPU time used: 315.92015200000014 seconds\n"
     ]
    }
   ],
   "source": [
    "# Two-sample problem example with Tritchler data, complete enumeration, 99% CI\n",
    "start_time = time.process_time()\n",
    "print(bisection_method_ci(y, x, reps= 10**4, complete_enum=True, cl = 0.99, max_iter=40, seed = 13))\n",
    "end_time = time.process_time()\n",
    "print(f\"CPU time used: {end_time - start_time} seconds\")"
   ]
  },
  {
   "cell_type": "code",
   "execution_count": 37,
   "id": "aac79f44-e6a6-4b95-93e9-406a7b5e84dc",
   "metadata": {},
   "outputs": [
    {
     "name": "stderr",
     "output_type": "stream",
     "text": [
      "/var/folders/d_/d_l8pffd5g9339qj6mktkq580000gn/T/ipykernel_23265/3949393349.py:120: FutureWarning: Using a non-tuple sequence for multidimensional indexing is deprecated; use `arr[tuple(seq)]` instead of `arr[seq]`. In the future this will be interpreted as an array index, `arr[np.array(seq)]`, which will result either in an error or a different result.\n",
      "  perm_mean_diff[i] = np.mean(full_sample[[perm_indices_x]]) - np.mean(full_sample[[perm_indices_y]])\n"
     ]
    },
    {
     "name": "stdout",
     "output_type": "stream",
     "text": [
      "Number of iterations for upper bound  24\n",
      "Number of iterations for lower bound  25\n",
      "(-0.07352474082022088, 0.10085510888778107, True, True)\n",
      "CPU time used: 5.219944000000055 seconds\n"
     ]
    }
   ],
   "source": [
    "# Run time for large synthetic example\n",
    "x = np.random.normal(0, 1, 1000)\n",
    "y = np.random.normal(0, 1, 1000)\n",
    "start_time = time.process_time()\n",
    "print(bisection_method_ci(x, y, reps= 10**4, complete_enum=False, cl = 0.95, max_iter=40, seed = 13))\n",
    "end_time = time.process_time()\n",
    "print(f\"CPU time used: {end_time - start_time} seconds\")"
   ]
  },
  {
   "cell_type": "code",
   "execution_count": null,
   "id": "7cff852e-9311-4b2c-bcc8-6247289f302b",
   "metadata": {},
   "outputs": [],
   "source": []
  }
 ],
 "metadata": {
  "kernelspec": {
   "display_name": "Python 3 (ipykernel)",
   "language": "python",
   "name": "python3"
  },
  "language_info": {
   "codemirror_mode": {
    "name": "ipython",
    "version": 3
   },
   "file_extension": ".py",
   "mimetype": "text/x-python",
   "name": "python",
   "nbconvert_exporter": "python",
   "pygments_lexer": "ipython3",
   "version": "3.9.6"
  }
 },
 "nbformat": 4,
 "nbformat_minor": 5
}
